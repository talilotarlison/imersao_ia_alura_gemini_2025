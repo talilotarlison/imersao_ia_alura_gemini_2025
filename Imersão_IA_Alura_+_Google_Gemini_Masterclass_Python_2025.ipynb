{
  "nbformat": 4,
  "nbformat_minor": 0,
  "metadata": {
    "colab": {
      "provenance": [],
      "include_colab_link": true
    },
    "kernelspec": {
      "name": "python3",
      "display_name": "Python 3"
    },
    "language_info": {
      "name": "python"
    }
  },
  "cells": [
    {
      "cell_type": "markdown",
      "metadata": {
        "id": "view-in-github",
        "colab_type": "text"
      },
      "source": [
        "<a href=\"https://colab.research.google.com/github/talilotarlison/imersao_ia_alura_gemini_2025/blob/main/Imers%C3%A3o_IA_Alura_%2B_Google_Gemini_Masterclass_Python_2025.ipynb\" target=\"_parent\"><img src=\"https://colab.research.google.com/assets/colab-badge.svg\" alt=\"Open In Colab\"/></a>"
      ]
    },
    {
      "cell_type": "markdown",
      "source": [
        "## Operações Matemáticas"
      ],
      "metadata": {
        "id": "HVJkNuy1oFf4"
      }
    },
    {
      "cell_type": "code",
      "execution_count": null,
      "metadata": {
        "colab": {
          "base_uri": "https://localhost:8080/"
        },
        "id": "ZscQ1d5SmeUv",
        "outputId": "e5fd810d-fe00-49e1-dfe6-72b38153447c"
      },
      "outputs": [
        {
          "output_type": "execute_result",
          "data": {
            "text/plain": [
              "9"
            ]
          },
          "metadata": {},
          "execution_count": 1
        }
      ],
      "source": [
        "2 + 7"
      ]
    },
    {
      "cell_type": "code",
      "source": [
        "9 - 5"
      ],
      "metadata": {
        "colab": {
          "base_uri": "https://localhost:8080/"
        },
        "id": "d_5SYs_9oEw5",
        "outputId": "3cef70da-7783-4bea-f0b3-33a794eade0a"
      },
      "execution_count": null,
      "outputs": [
        {
          "output_type": "execute_result",
          "data": {
            "text/plain": [
              "4"
            ]
          },
          "metadata": {},
          "execution_count": 2
        }
      ]
    },
    {
      "cell_type": "code",
      "source": [
        "7 * 5"
      ],
      "metadata": {
        "colab": {
          "base_uri": "https://localhost:8080/"
        },
        "id": "ZMhKbddNoPf9",
        "outputId": "53358a1c-493b-4f73-f0e5-e6012802209c"
      },
      "execution_count": null,
      "outputs": [
        {
          "output_type": "execute_result",
          "data": {
            "text/plain": [
              "35"
            ]
          },
          "metadata": {},
          "execution_count": 3
        }
      ]
    },
    {
      "cell_type": "code",
      "source": [
        "9 / 3"
      ],
      "metadata": {
        "colab": {
          "base_uri": "https://localhost:8080/"
        },
        "id": "xQcjR-63oXYP",
        "outputId": "30b79309-b293-4f83-d8e3-6a5a60302c9b"
      },
      "execution_count": null,
      "outputs": [
        {
          "output_type": "execute_result",
          "data": {
            "text/plain": [
              "3.0"
            ]
          },
          "metadata": {},
          "execution_count": 4
        }
      ]
    },
    {
      "cell_type": "code",
      "source": [
        "9 / 2"
      ],
      "metadata": {
        "colab": {
          "base_uri": "https://localhost:8080/"
        },
        "id": "jTJxi9BCosUS",
        "outputId": "e5424674-36e1-495e-fada-9383ec5fd543"
      },
      "execution_count": null,
      "outputs": [
        {
          "output_type": "execute_result",
          "data": {
            "text/plain": [
              "4.5"
            ]
          },
          "metadata": {},
          "execution_count": 6
        }
      ]
    },
    {
      "cell_type": "code",
      "source": [
        "primeiro_numero = 17"
      ],
      "metadata": {
        "id": "mUQaiGOHqNJd"
      },
      "execution_count": null,
      "outputs": []
    },
    {
      "cell_type": "code",
      "source": [
        "primeira_operacao = 2258 + 6354"
      ],
      "metadata": {
        "id": "bxsSOhjko-j-"
      },
      "execution_count": null,
      "outputs": []
    },
    {
      "cell_type": "code",
      "source": [
        "segunda_operacao = 8 - 5"
      ],
      "metadata": {
        "id": "WRopXQT0pZMX"
      },
      "execution_count": null,
      "outputs": []
    },
    {
      "cell_type": "code",
      "source": [
        "exponencial = 2 ** 3\n",
        "print(exponencial)"
      ],
      "metadata": {
        "colab": {
          "base_uri": "https://localhost:8080/"
        },
        "id": "igF-zhb3sH9b",
        "outputId": "2d8cee78-42a2-41b9-f5a0-a5c32d037f07"
      },
      "execution_count": null,
      "outputs": [
        {
          "output_type": "stream",
          "name": "stdout",
          "text": [
            "8\n"
          ]
        }
      ]
    },
    {
      "cell_type": "code",
      "source": [
        "print(primeira_operacao)"
      ],
      "metadata": {
        "colab": {
          "base_uri": "https://localhost:8080/"
        },
        "id": "AQUrx2c4pmS9",
        "outputId": "c5d9ce83-6b45-4964-fa01-65bcf20eda48"
      },
      "execution_count": null,
      "outputs": [
        {
          "output_type": "stream",
          "name": "stdout",
          "text": [
            "8612\n"
          ]
        }
      ]
    },
    {
      "cell_type": "code",
      "source": [
        "print(segunda_operacao)"
      ],
      "metadata": {
        "colab": {
          "base_uri": "https://localhost:8080/"
        },
        "id": "V4jLp1QMp15h",
        "outputId": "35c6fdd7-770f-4e2f-c73e-c6ebfacd490e"
      },
      "execution_count": null,
      "outputs": [
        {
          "output_type": "stream",
          "name": "stdout",
          "text": [
            "3\n"
          ]
        }
      ]
    },
    {
      "cell_type": "code",
      "source": [
        "print(primeira_operacao * segunda_operacao)"
      ],
      "metadata": {
        "colab": {
          "base_uri": "https://localhost:8080/"
        },
        "id": "y0O65QYLp30V",
        "outputId": "24206647-264e-458c-da77-605b74e13d72"
      },
      "execution_count": null,
      "outputs": [
        {
          "output_type": "stream",
          "name": "stdout",
          "text": [
            "25836\n"
          ]
        }
      ]
    },
    {
      "cell_type": "code",
      "source": [
        "print(\"Olá mundo\")"
      ],
      "metadata": {
        "colab": {
          "base_uri": "https://localhost:8080/"
        },
        "id": "1lcSWWd2qGX3",
        "outputId": "cf38db89-8f5f-4652-b1b2-2edb9d706c6a"
      },
      "execution_count": null,
      "outputs": [
        {
          "output_type": "stream",
          "name": "stdout",
          "text": [
            "Olá mundo\n"
          ]
        }
      ]
    },
    {
      "cell_type": "code",
      "source": [
        "multiplicacao = primeira_operacao * segunda_operacao"
      ],
      "metadata": {
        "id": "nyIoIaOaqgCQ"
      },
      "execution_count": null,
      "outputs": []
    },
    {
      "cell_type": "code",
      "source": [
        "print(multiplicacao)"
      ],
      "metadata": {
        "colab": {
          "base_uri": "https://localhost:8080/"
        },
        "id": "PPlqLwULqq2v",
        "outputId": "d5e5eef9-28e3-47d1-96b1-7a9584aba71e"
      },
      "execution_count": null,
      "outputs": [
        {
          "output_type": "stream",
          "name": "stdout",
          "text": [
            "25836\n"
          ]
        }
      ]
    },
    {
      "cell_type": "code",
      "source": [
        "print(\"O resultado da multiplicação é:\", multiplicacao, \"que é a multiplicação de\", primeira_operacao, \"e\", segunda_operacao)"
      ],
      "metadata": {
        "colab": {
          "base_uri": "https://localhost:8080/"
        },
        "id": "UBGz5c7kq8Ys",
        "outputId": "b830971b-e67e-482a-f2c0-262e1399e3e7"
      },
      "execution_count": null,
      "outputs": [
        {
          "output_type": "stream",
          "name": "stdout",
          "text": [
            "O resultado da multiplicação é: 25836 que é a multiplicação de 8612 e 3\n"
          ]
        }
      ]
    },
    {
      "cell_type": "code",
      "source": [
        "print(f\"O resultado da multiplicação é: {multiplicacao}, que é a multiplicação de {primeira_operacao} e {segunda_operacao}\")"
      ],
      "metadata": {
        "colab": {
          "base_uri": "https://localhost:8080/"
        },
        "id": "1BLnobzlrS9C",
        "outputId": "ed91dd4b-f46c-4b4f-bc8a-fae0346c58ec"
      },
      "execution_count": null,
      "outputs": [
        {
          "output_type": "stream",
          "name": "stdout",
          "text": [
            "O resultado da multiplicação é: 25836, que é a multiplicação de 8612 e 3\n"
          ]
        }
      ]
    },
    {
      "cell_type": "code",
      "source": [
        "nome1 = input(\"Digite seu nome: \")"
      ],
      "metadata": {
        "colab": {
          "base_uri": "https://localhost:8080/"
        },
        "id": "X4PUe9j9sUyG",
        "outputId": "7cd630e8-4e3b-40fa-d91b-edac1fe2604e"
      },
      "execution_count": null,
      "outputs": [
        {
          "name": "stdout",
          "output_type": "stream",
          "text": [
            "Digite seu nome: Fabrício\n"
          ]
        }
      ]
    },
    {
      "cell_type": "code",
      "source": [
        "print(nome1)"
      ],
      "metadata": {
        "colab": {
          "base_uri": "https://localhost:8080/"
        },
        "id": "qlWDaau2s6nN",
        "outputId": "762a82b2-170b-49e3-ca82-c750327ee43f"
      },
      "execution_count": null,
      "outputs": [
        {
          "output_type": "stream",
          "name": "stdout",
          "text": [
            "Fabrício\n"
          ]
        }
      ]
    },
    {
      "cell_type": "code",
      "source": [
        "nome2 = input(\"Digite seu nome: \")"
      ],
      "metadata": {
        "colab": {
          "base_uri": "https://localhost:8080/"
        },
        "id": "LFyj9lZmtAe7",
        "outputId": "96d1aab3-5f8b-4c03-dbba-220273356972"
      },
      "execution_count": null,
      "outputs": [
        {
          "name": "stdout",
          "output_type": "stream",
          "text": [
            "Digite seu nome: Valquíria\n"
          ]
        }
      ]
    },
    {
      "cell_type": "code",
      "source": [
        "print(f\"Hoje estamos com {nome1} e {nome2} para essa live de Python!\")"
      ],
      "metadata": {
        "colab": {
          "base_uri": "https://localhost:8080/"
        },
        "id": "OSxGm8s1tD6a",
        "outputId": "31fa0539-0ed5-4939-afb5-ba117faa6e75"
      },
      "execution_count": null,
      "outputs": [
        {
          "output_type": "stream",
          "name": "stdout",
          "text": [
            "Hoje estamos com Fabrício e Valquíria para essa live de Python!\n"
          ]
        }
      ]
    },
    {
      "cell_type": "code",
      "source": [
        "idade1 = input(\"Digite sua idade: \")"
      ],
      "metadata": {
        "colab": {
          "base_uri": "https://localhost:8080/"
        },
        "id": "VJtnXxgLtrqs",
        "outputId": "d9110d1a-2b62-4678-fa6a-1d7dd7c2e90a"
      },
      "execution_count": null,
      "outputs": [
        {
          "name": "stdout",
          "output_type": "stream",
          "text": [
            "Digite sua idade: 17\n"
          ]
        }
      ]
    },
    {
      "cell_type": "code",
      "source": [
        "if int(idade1) >= 18:\n",
        "    print(\"Você é maior de idade!\")\n",
        "    print(\"Você pode entrar!\")\n",
        "else:\n",
        "    print(\"Você é menor de idade!\")\n",
        "    print(\"Você não pode entrar!\")"
      ],
      "metadata": {
        "colab": {
          "base_uri": "https://localhost:8080/"
        },
        "id": "medi0QWauB4T",
        "outputId": "b5cf9e3d-81a8-4f31-a64b-c7d61ecb21c3"
      },
      "execution_count": null,
      "outputs": [
        {
          "output_type": "stream",
          "name": "stdout",
          "text": [
            "Você é menor de idade!\n",
            "Você não pode entrar!\n"
          ]
        }
      ]
    },
    {
      "cell_type": "code",
      "source": [
        "def verificar_idade(idade):\n",
        "    if int(idade) >= 18:\n",
        "        print(\"Você é maior de idade!\")\n",
        "        print(\"Você pode entrar!\")\n",
        "    else:\n",
        "        print(\"Você é menor de idade!\")\n",
        "        print(\"Você não pode entrar!\")"
      ],
      "metadata": {
        "id": "xWrcBlTrvpI-"
      },
      "execution_count": null,
      "outputs": []
    },
    {
      "cell_type": "code",
      "source": [
        "verificar_idade(17)"
      ],
      "metadata": {
        "colab": {
          "base_uri": "https://localhost:8080/"
        },
        "id": "IongOJhPwPed",
        "outputId": "28baa30c-74b4-44d4-f94d-f6c136c0edff"
      },
      "execution_count": null,
      "outputs": [
        {
          "output_type": "stream",
          "name": "stdout",
          "text": [
            "Você é menor de idade!\n",
            "Você não pode entrar!\n"
          ]
        }
      ]
    },
    {
      "cell_type": "code",
      "source": [
        "contador = 2\n",
        "\n",
        "while contador < 5:\n",
        "   print(f\"Contagem: {contador}\")\n",
        "   contador = contador + 1\n",
        "\n",
        "print(\"Fim da contagem\")"
      ],
      "metadata": {
        "colab": {
          "base_uri": "https://localhost:8080/"
        },
        "id": "nkcFT8ilw-GM",
        "outputId": "16d99d9b-d8a7-45ee-9162-cdc0e8f4c354"
      },
      "execution_count": null,
      "outputs": [
        {
          "output_type": "stream",
          "name": "stdout",
          "text": [
            "Contagem: 2\n",
            "Contagem: 3\n",
            "Contagem: 4\n",
            "Fim da contagem\n"
          ]
        }
      ]
    },
    {
      "cell_type": "code",
      "source": [
        "modelos = [\"2.0 flash\", \"2.5 pro\", \"2.5 flash\"]"
      ],
      "metadata": {
        "id": "SWYkwf4ny_mr"
      },
      "execution_count": null,
      "outputs": []
    },
    {
      "cell_type": "code",
      "source": [
        "modelos"
      ],
      "metadata": {
        "colab": {
          "base_uri": "https://localhost:8080/"
        },
        "id": "aMFnm_10zXxG",
        "outputId": "c3e64b2f-1c03-471d-89d6-b1de48ddd4f7"
      },
      "execution_count": null,
      "outputs": [
        {
          "output_type": "execute_result",
          "data": {
            "text/plain": [
              "['2.0 flash', '2.5 pro', '2.5 flash']"
            ]
          },
          "metadata": {},
          "execution_count": 4
        }
      ]
    },
    {
      "cell_type": "code",
      "source": [
        "for modelo in modelos:\n",
        "    print(modelo)"
      ],
      "metadata": {
        "colab": {
          "base_uri": "https://localhost:8080/"
        },
        "id": "m8oSJNezzYfu",
        "outputId": "56bd0602-16d7-40ed-9dc5-cc71c45f68e5"
      },
      "execution_count": null,
      "outputs": [
        {
          "output_type": "stream",
          "name": "stdout",
          "text": [
            "2.0 flash\n",
            "2.5 pro\n",
            "2.5 flash\n"
          ]
        }
      ]
    }
  ]
}